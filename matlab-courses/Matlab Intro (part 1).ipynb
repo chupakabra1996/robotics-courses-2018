{
 "cells": [
  {
   "cell_type": "code",
   "execution_count": 5,
   "metadata": {},
   "outputs": [],
   "source": [
    "% set a non-verbose output\n",
    "format compact"
   ]
  },
  {
   "cell_type": "code",
   "execution_count": 6,
   "metadata": {},
   "outputs": [
    {
     "name": "stdout",
     "output_type": "stream",
     "text": [
      "a =\n",
      "     3\n"
     ]
    }
   ],
   "source": [
    "% scalar type (integer)\n",
    "a = 3"
   ]
  },
  {
   "cell_type": "code",
   "execution_count": 7,
   "metadata": {},
   "outputs": [
    {
     "name": "stdout",
     "output_type": "stream",
     "text": [
      "b =\n",
      "    3.1415\n"
     ]
    }
   ],
   "source": [
    "% or another scalar type (double)\n",
    "b = 3.1415"
   ]
  },
  {
   "cell_type": "code",
   "execution_count": 11,
   "metadata": {},
   "outputs": [
    {
     "name": "stdout",
     "output_type": "stream",
     "text": [
      "ans =\n",
      "    6.1415\n",
      "ans =\n",
      "     6\n",
      "ans =\n",
      "    0.9550\n",
      "ans =\n",
      "     9\n"
     ]
    }
   ],
   "source": [
    "% operations on scalars\n",
    "a + b\n",
    "a * 2\n",
    "a / b\n",
    "a ^ 2"
   ]
  },
  {
   "cell_type": "code",
   "execution_count": 74,
   "metadata": {},
   "outputs": [
    {
     "name": "stdout",
     "output_type": "stream",
     "text": [
      "ans =\n",
      "    0.5000\n",
      "ans =\n",
      "    0.5000\n",
      "ans =\n",
      "   1.6331e+16\n"
     ]
    }
   ],
   "source": [
    "% functions on scalars\n",
    "sin(pi/6)\n",
    "cos(pi/3)\n",
    "tan(pi/2)"
   ]
  },
  {
   "cell_type": "code",
   "execution_count": 39,
   "metadata": {},
   "outputs": [
    {
     "name": "stdout",
     "output_type": "stream",
     "text": [
      "ans =\n",
      "      23/4     \n"
     ]
    }
   ],
   "source": [
    "% enable ratio format\n",
    "format rat\n",
    "\n",
    "1.5 + 4.25\n",
    "\n",
    "% get back to the short format\n",
    "format short"
   ]
  },
  {
   "cell_type": "code",
   "execution_count": 15,
   "metadata": {},
   "outputs": [
    {
     "name": "stdout",
     "output_type": "stream",
     "text": [
      "column_vector =\n",
      "     1\n",
      "     2\n",
      "     3\n",
      "     4\n",
      "     5\n"
     ]
    }
   ],
   "source": [
    "% column vector\n",
    "column_vector = [1;2;3;4;5]"
   ]
  },
  {
   "cell_type": "code",
   "execution_count": 16,
   "metadata": {},
   "outputs": [
    {
     "name": "stdout",
     "output_type": "stream",
     "text": [
      "row_vector =\n",
      "     1     2     3     4     5\n"
     ]
    }
   ],
   "source": [
    "% row vector\n",
    "row_vector = [1 2 3 4 5]"
   ]
  },
  {
   "cell_type": "code",
   "execution_count": 40,
   "metadata": {},
   "outputs": [
    {
     "name": "stdout",
     "output_type": "stream",
     "text": [
      "row_vector =\n",
      "     1     2     3     4     5\n"
     ]
    }
   ],
   "source": [
    "% or with commas\n",
    "row_vector = [1,2,3,4,5]"
   ]
  },
  {
   "cell_type": "code",
   "execution_count": 43,
   "metadata": {},
   "outputs": [
    {
     "name": "stdout",
     "output_type": "stream",
     "text": [
      "ans =\n",
      "     1     5\n",
      "ans =\n",
      "     5     1\n"
     ]
    }
   ],
   "source": [
    "% get the size of vector: rows and columns\n",
    "size(row_vector)\n",
    "size(column_vector)"
   ]
  },
  {
   "cell_type": "code",
   "execution_count": 20,
   "metadata": {},
   "outputs": [
    {
     "name": "stdout",
     "output_type": "stream",
     "text": [
      "row_vector =\n",
      "     1     2     3     4     5\n"
     ]
    }
   ],
   "source": [
    "% another way of creating a vector in some range\n",
    "row_vector = [1:5]"
   ]
  },
  {
   "cell_type": "code",
   "execution_count": 66,
   "metadata": {},
   "outputs": [
    {
     "name": "stdout",
     "output_type": "stream",
     "text": [
      "row_vector =\n",
      "    -5    -3    -1     1     3     5\n"
     ]
    }
   ],
   "source": [
    "% with step 2\n",
    "row_vector = [-5:2:5]"
   ]
  },
  {
   "cell_type": "code",
   "execution_count": 32,
   "metadata": {},
   "outputs": [
    {
     "name": "stdout",
     "output_type": "stream",
     "text": [
      "c =\n",
      "    1.0000    3.2500    5.5000    7.7500   10.0000\n"
     ]
    }
   ],
   "source": [
    "% 5 equally distributed elements in 1 .. 10\n",
    "c = linspace(1, 10, 5)"
   ]
  },
  {
   "cell_type": "code",
   "execution_count": 48,
   "metadata": {},
   "outputs": [
    {
     "name": "stdout",
     "output_type": "stream",
     "text": [
      "a =\n",
      "     1     3     5     7     9\n",
      "b =\n",
      "     2     4     6     8    10\n",
      "ans =\n",
      "     1     3     5     7     9     2     4     6     8    10\n",
      "ans =\n",
      "     1     3     5     7     9\n",
      "     2     4     6     8    10\n"
     ]
    }
   ],
   "source": [
    "% concatenation of vectors\n",
    "a = [1:2:10]\n",
    "b = [2:2:10]\n",
    "\n",
    "% concat into one-row vector\n",
    "[a, b]\n",
    "\n",
    "% concat into two-row vector\n",
    "[a; b]"
   ]
  },
  {
   "cell_type": "code",
   "execution_count": 56,
   "metadata": {},
   "outputs": [
    {
     "name": "stdout",
     "output_type": "stream",
     "text": [
      "ans =\n",
      "     3\n",
      "ans =\n",
      "     1     3\n",
      "ans =\n",
      "     1     5     9\n"
     ]
    }
   ],
   "source": [
    "% access elements of vector\n",
    "a(2) % one element\n",
    "a(1:2) % a slice from 1st to 2nd (inclusive)\n",
    "a([1, 3, 5]) % a subset of vector (1st, 3rd, and 5th elements)"
   ]
  },
  {
   "cell_type": "code",
   "execution_count": 61,
   "metadata": {},
   "outputs": [
    {
     "name": "stdout",
     "output_type": "stream",
     "text": [
      "ans =\n",
      "     1\n",
      "     2\n",
      "     3\n",
      "ans =\n",
      "     1     2     3     4     5\n"
     ]
    }
   ],
   "source": [
    "% transpose a row vector into column one\n",
    "v = [1 2 3];\n",
    "v'\n",
    "\n",
    "% and vice-versa\n",
    "v = [1; 2; 3; 4; 5];\n",
    "v'"
   ]
  },
  {
   "cell_type": "code",
   "execution_count": 71,
   "metadata": {},
   "outputs": [
    {
     "name": "stdout",
     "output_type": "stream",
     "text": [
      "sum =\n",
      "     0\n",
      "     0\n",
      "     0\n",
      "transposed =\n",
      "    -1    -2    -3\n",
      "    -2    -4    -6\n",
      "    -3    -6    -9\n",
      "multiply_by_scalar =\n",
      "     3\n",
      "     6\n",
      "     9\n"
     ]
    }
   ],
   "source": [
    "% sum of vectors\n",
    "a = [1; 2; 3];\n",
    "b = [-1; -2; -3];\n",
    "\n",
    "sum = a + b\n",
    "\n",
    "transposed = a * b' % b is transposed\n",
    "\n",
    "multiply_by_scalar = a * 3"
   ]
  },
  {
   "cell_type": "code",
   "execution_count": 78,
   "metadata": {},
   "outputs": [
    {
     "name": "stdout",
     "output_type": "stream",
     "text": [
      "zero_row_vector =\n",
      "     0     0     0     0     0\n",
      "zero_column_vector =\n",
      "     0\n",
      "     0\n",
      "     0\n",
      "ones_vector =\n",
      "     1     1     1\n"
     ]
    }
   ],
   "source": [
    "% zero vector\n",
    "zero_row_vector = zeros(1,5)\n",
    "\n",
    "% or\n",
    "zero_column_vector = zeros(3, 1)\n",
    "\n",
    "% vector with ones\n",
    "ones_vector = ones(1, 3)"
   ]
  },
  {
   "cell_type": "code",
   "execution_count": null,
   "metadata": {},
   "outputs": [],
   "source": []
  }
 ],
 "metadata": {
  "kernelspec": {
   "display_name": "Matlab",
   "language": "matlab",
   "name": "matlab"
  },
  "language_info": {
   "codemirror_mode": "octave",
   "file_extension": ".m",
   "help_links": [
    {
     "text": "MetaKernel Magics",
     "url": "https://github.com/calysto/metakernel/blob/master/metakernel/magics/README.md"
    }
   ],
   "mimetype": "text/x-octave",
   "name": "matlab",
   "version": "0.15.2"
  }
 },
 "nbformat": 4,
 "nbformat_minor": 2
}
