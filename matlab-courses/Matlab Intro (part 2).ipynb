{
 "cells": [
  {
   "cell_type": "code",
   "execution_count": 9,
   "metadata": {},
   "outputs": [
    {
     "name": "stdout",
     "output_type": "stream",
     "text": [
      "\n",
      "A =\n",
      "\n",
      "     1     2     3\n",
      "     4     5     6\n",
      "\n",
      "\n",
      "B =\n",
      "\n",
      "     0    -2    -3\n",
      "    -4    -5    -5\n",
      "\n"
     ]
    }
   ],
   "source": [
    "% Matrices\n",
    "A = [1 2 3; 4 5 6]\n",
    "B = [0 -2 -3; -4 -5 -5]"
   ]
  },
  {
   "cell_type": "code",
   "execution_count": 12,
   "metadata": {},
   "outputs": [
    {
     "name": "stdout",
     "output_type": "stream",
     "text": [
      "\n",
      "ans =\n",
      "\n",
      "     1     0     0\n",
      "     0     0     1\n",
      "\n",
      "\n",
      "ans =\n",
      "\n",
      "     1    -2    -3\n",
      "    -4    -5    -4\n",
      "\n",
      "\n",
      "C =\n",
      "\n",
      "     1     2     3     0    -2    -3\n",
      "     4     5     6    -4    -5    -5\n",
      "\n",
      "\n",
      "D =\n",
      "\n",
      "     1     2     3\n",
      "     4     5     6\n",
      "     0    -2    -3\n",
      "    -4    -5    -5\n",
      "\n"
     ]
    }
   ],
   "source": [
    "% operations\n",
    "A + B\n",
    "A + 2 * B\n",
    "C = [A, B]\n",
    "D = [A; B]"
   ]
  },
  {
   "cell_type": "code",
   "execution_count": 30,
   "metadata": {},
   "outputs": [
    {
     "name": "stdout",
     "output_type": "stream",
     "text": [
      "\n",
      "ans =\n",
      "\n",
      "     1     3\n",
      "     4     6\n",
      "\n"
     ]
    }
   ],
   "source": [
    "% get a subset of matrix\n",
    "C(1:2, [1, 3])"
   ]
  },
  {
   "cell_type": "code",
   "execution_count": 31,
   "metadata": {},
   "outputs": [
    {
     "name": "stdout",
     "output_type": "stream",
     "text": [
      "\n",
      "ans =\n",
      "\n",
      "     1     4\n",
      "     2     5\n",
      "     3     6\n",
      "     0    -4\n",
      "    -2    -5\n",
      "    -3    -5\n",
      "\n"
     ]
    }
   ],
   "source": [
    "% transpose\n",
    "C'"
   ]
  },
  {
   "cell_type": "code",
   "execution_count": 32,
   "metadata": {},
   "outputs": [
    {
     "name": "stdout",
     "output_type": "stream",
     "text": [
      "\n",
      "ans =\n",
      "\n",
      "    27    57\n",
      "    57   143\n",
      "\n"
     ]
    }
   ],
   "source": [
    "% \n",
    "C * C'"
   ]
  },
  {
   "cell_type": "code",
   "execution_count": 33,
   "metadata": {},
   "outputs": [
    {
     "name": "stdout",
     "output_type": "stream",
     "text": [
      "\n",
      "ans =\n",
      "\n",
      "     1     1     1\n",
      "     1     1     1\n",
      "     1     1     1\n",
      "\n",
      "\n",
      "ans =\n",
      "\n",
      "     0     0     0\n",
      "     0     0     0\n",
      "\n"
     ]
    }
   ],
   "source": [
    "% zero, ones matrix\n",
    "ones(3,3)\n",
    "zeros(2,3)"
   ]
  },
  {
   "cell_type": "code",
   "execution_count": 34,
   "metadata": {},
   "outputs": [
    {
     "name": "stdout",
     "output_type": "stream",
     "text": [
      "\n",
      "ans =\n",
      "\n",
      "     1     0     0\n",
      "     0     1     0\n",
      "     0     0     1\n",
      "\n"
     ]
    }
   ],
   "source": [
    "% identity matrix\n",
    "eye(3)"
   ]
  },
  {
   "cell_type": "code",
   "execution_count": 35,
   "metadata": {},
   "outputs": [
    {
     "name": "stdout",
     "output_type": "stream",
     "text": [
      "\n",
      "ans =\n",
      "\n",
      "     1     0     0\n",
      "     0     2     0\n",
      "     0     0     3\n",
      "\n"
     ]
    }
   ],
   "source": [
    "% diagonal matrix\n",
    "diag([1 2 3])"
   ]
  },
  {
   "cell_type": "code",
   "execution_count": 36,
   "metadata": {},
   "outputs": [
    {
     "name": "stdout",
     "output_type": "stream",
     "text": [
      "\n",
      "diag_vector =\n",
      "\n",
      "     1\n",
      "     1\n",
      "     1\n",
      "\n"
     ]
    }
   ],
   "source": [
    "% extract diagonal vector of matrix\n",
    "diag_vector = diag(eye(3))"
   ]
  },
  {
   "cell_type": "code",
   "execution_count": 37,
   "metadata": {},
   "outputs": [
    {
     "name": "stdout",
     "output_type": "stream",
     "text": [
      "\n",
      "A =\n",
      "\n",
      "     1     2     3\n",
      "     4     5     6\n",
      "     7     8     9\n",
      "\n",
      "\n",
      "A =\n",
      "\n",
      "     1     1     3\n",
      "     1     1     6\n",
      "     7     8     9\n",
      "\n"
     ]
    }
   ],
   "source": [
    "% example task: given the matrix A, replace its left top corner submatrix of 2x2 by ones\n",
    "A = [1 2 3; 4 5 6; 7 8 9]\n",
    "A(1:2, 1:2) = ones(2,2)"
   ]
  },
  {
   "cell_type": "code",
   "execution_count": 43,
   "metadata": {},
   "outputs": [
    {
     "name": "stdout",
     "output_type": "stream",
     "text": [
      "\n",
      "A =\n",
      "\n",
      "     5     0     0     0     0\n",
      "     0     4     0     0     0\n",
      "     0     0     3     0     0\n",
      "     0     0     0     2     0\n",
      "     0     0     0     0     1\n",
      "\n"
     ]
    }
   ],
   "source": [
    "A = diag(5:-1:1)"
   ]
  },
  {
   "cell_type": "code",
   "execution_count": 46,
   "metadata": {},
   "outputs": [
    {
     "name": "stdout",
     "output_type": "stream",
     "text": [
      "\n",
      "ans =\n",
      "\n",
      "     5     0     0\n",
      "     0     0     0\n",
      "     0     3     0\n",
      "\n"
     ]
    }
   ],
   "source": [
    "A([1,2,3],[1,3,5])"
   ]
  },
  {
   "cell_type": "code",
   "execution_count": 55,
   "metadata": {},
   "outputs": [
    {
     "name": "stdout",
     "output_type": "stream",
     "text": [
      "\n",
      "ans =\n",
      "\n",
      "    10    10    10\n",
      "\n",
      "\n",
      "ans =\n",
      "\n",
      "     1     2\n",
      "     3     4\n",
      "\n"
     ]
    }
   ],
   "source": [
    "% element by element operatios\n",
    "u = [1 2 3];\n",
    "v = [10 5 10/3];\n",
    "\n",
    "u .* v\n",
    "\n",
    "[1 2; 3 4] .* ones(2,2) "
   ]
  },
  {
   "cell_type": "code",
   "execution_count": 51,
   "metadata": {},
   "outputs": [
    {
     "name": "stdout",
     "output_type": "stream",
     "text": [
      "\n",
      "ans =\n",
      "\n",
      "    2.3333    2.3333\n",
      "   -0.5556   -0.5556\n",
      "    0.6667    0.6667\n",
      "\n"
     ]
    }
   ],
   "source": [
    "% solve Ax = b => A^(-1)*A*x = A(-1)*b => x = A(-1)*b\n",
    "b = [3; 1; 2];\n",
    "A = [2 3 0; 1 0 -2; 0 0 3]; % invertible matrix\n",
    "\n",
    "x = inv(A) * b; % using inverse matrix\n",
    "\n",
    "z = A \\ b; % using backslash operator (more efficient)\n",
    "\n",
    "[x z]"
   ]
  },
  {
   "cell_type": "code",
   "execution_count": 57,
   "metadata": {},
   "outputs": [
    {
     "name": "stdout",
     "output_type": "stream",
     "text": [
      "\n",
      "ans =\n",
      "\n",
      "     1\n",
      "     4\n",
      "     7\n",
      "\n",
      "\n",
      "ans =\n",
      "\n",
      "     4     5     6\n",
      "\n"
     ]
    }
   ],
   "source": [
    "A = [1 2 3; 4 5 6; 7 8 9];\n",
    "\n",
    "% get the 1st column of A\n",
    "A(:,1)\n",
    "\n",
    "% the 2nd row\n",
    "A(2,:)"
   ]
  },
  {
   "cell_type": "code",
   "execution_count": null,
   "metadata": {},
   "outputs": [],
   "source": []
  }
 ],
 "metadata": {
  "kernelspec": {
   "display_name": "Matlab",
   "language": "matlab",
   "name": "matlab"
  },
  "language_info": {
   "codemirror_mode": "octave",
   "file_extension": ".m",
   "help_links": [
    {
     "text": "MetaKernel Magics",
     "url": "https://github.com/calysto/metakernel/blob/master/metakernel/magics/README.md"
    }
   ],
   "mimetype": "text/x-octave",
   "name": "matlab",
   "version": "0.15.2"
  }
 },
 "nbformat": 4,
 "nbformat_minor": 2
}
